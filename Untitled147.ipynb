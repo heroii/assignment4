{
 "cells": [
  {
   "cell_type": "code",
   "execution_count": null,
   "id": "ff061711-12cf-4b18-9bd0-e365923142d9",
   "metadata": {},
   "outputs": [],
   "source": [
    "## Q1 in decending order,for ascending replace True by False\n",
    "L=[('sachin tendulkar',34357),('rickey pointing',27483),('Jack kallis',25534),('virat kohli',24936)]"
   ]
  },
  {
   "cell_type": "code",
   "execution_count": 8,
   "id": "127b8045-baa5-4733-a50a-5560b5991733",
   "metadata": {},
   "outputs": [],
   "source": [
    "a=sorted(L,key=lambda x:x[1],reverse=True)"
   ]
  },
  {
   "cell_type": "code",
   "execution_count": 9,
   "id": "892480a5-9310-4e90-936c-29c886bd75c7",
   "metadata": {},
   "outputs": [
    {
     "data": {
      "text/plain": [
       "[('sachin tendulkar', 34357),\n",
       " ('rickey pointing', 27483),\n",
       " ('Jack kallis', 25534),\n",
       " ('virat kohli', 24936)]"
      ]
     },
     "execution_count": 9,
     "metadata": {},
     "output_type": "execute_result"
    }
   ],
   "source": [
    "a"
   ]
  },
  {
   "cell_type": "code",
   "execution_count": 13,
   "id": "6b6ebff2-7a72-4523-9d90-8ce1cd378bd0",
   "metadata": {},
   "outputs": [
    {
     "data": {
      "text/plain": [
       "[1, 4, 9, 16, 25, 36, 49, 64, 81, 100]"
      ]
     },
     "execution_count": 13,
     "metadata": {},
     "output_type": "execute_result"
    }
   ],
   "source": [
    "#Q2\n",
    "L1=[1,2,3,4,5,6,7,8,9,10]\n",
    "list(map(lambda x:x**2,L1))"
   ]
  },
  {
   "cell_type": "code",
   "execution_count": 15,
   "id": "b7e91319-e975-4a85-9579-6eac6c6a4c41",
   "metadata": {},
   "outputs": [
    {
     "data": {
      "text/plain": [
       "('1', '2', '3', '4', '5', '6', '7', '8', '9', '10')"
      ]
     },
     "execution_count": 15,
     "metadata": {},
     "output_type": "execute_result"
    }
   ],
   "source": [
    "#Q3\n",
    "L2=[1,2,3,4,5,6,7,8,9,10]\n",
    "tuple(map(lambda x:str(x),L2))"
   ]
  },
  {
   "cell_type": "code",
   "execution_count": 22,
   "id": "350cecec-a14b-46df-adc2-e4cd9d5407c4",
   "metadata": {},
   "outputs": [],
   "source": [
    "#Q4\n",
    "L3=[i for i in range(1,26)]"
   ]
  },
  {
   "cell_type": "code",
   "execution_count": 23,
   "id": "21d4be8d-e21a-42aa-ab84-3663089befd8",
   "metadata": {},
   "outputs": [
    {
     "data": {
      "text/plain": [
       "[1,\n",
       " 2,\n",
       " 3,\n",
       " 4,\n",
       " 5,\n",
       " 6,\n",
       " 7,\n",
       " 8,\n",
       " 9,\n",
       " 10,\n",
       " 11,\n",
       " 12,\n",
       " 13,\n",
       " 14,\n",
       " 15,\n",
       " 16,\n",
       " 17,\n",
       " 18,\n",
       " 19,\n",
       " 20,\n",
       " 21,\n",
       " 22,\n",
       " 23,\n",
       " 24,\n",
       " 25]"
      ]
     },
     "execution_count": 23,
     "metadata": {},
     "output_type": "execute_result"
    }
   ],
   "source": [
    "L3"
   ]
  },
  {
   "cell_type": "code",
   "execution_count": 24,
   "id": "32865ef4-a3a9-438f-ac78-76b133f75dcc",
   "metadata": {},
   "outputs": [],
   "source": [
    "from functools import reduce"
   ]
  },
  {
   "cell_type": "code",
   "execution_count": 25,
   "id": "5cbb0c6a-0ecc-4963-8474-166eb3a6a32b",
   "metadata": {},
   "outputs": [
    {
     "data": {
      "text/plain": [
       "15511210043330985984000000"
      ]
     },
     "execution_count": 25,
     "metadata": {},
     "output_type": "execute_result"
    }
   ],
   "source": [
    "reduce(lambda x,y:x*y,L3)"
   ]
  },
  {
   "cell_type": "code",
   "execution_count": 26,
   "id": "5e15316e-3f97-4136-ac81-9aafdf0c133e",
   "metadata": {},
   "outputs": [],
   "source": [
    "#Q5\n",
    "L4=[2,3,6,9,27,60,90,120,55,46]"
   ]
  },
  {
   "cell_type": "code",
   "execution_count": 33,
   "id": "bf67f713-ddcd-429a-9331-6401e2440fa1",
   "metadata": {},
   "outputs": [
    {
     "data": {
      "text/plain": [
       "[6, 60, 90, 120]"
      ]
     },
     "execution_count": 33,
     "metadata": {},
     "output_type": "execute_result"
    }
   ],
   "source": [
    "def test(x):\n",
    "    if(x%2==0 and x%3==0):\n",
    "        \n",
    "        return 1\n",
    "list(filter(test,L4))"
   ]
  },
  {
   "cell_type": "code",
   "execution_count": 34,
   "id": "22dd8fa8-49f7-4efd-b481-be91fbc433f3",
   "metadata": {},
   "outputs": [],
   "source": [
    "#Q6\n",
    "L5=['python','php','aba','radar','level']\n"
   ]
  },
  {
   "cell_type": "code",
   "execution_count": null,
   "id": "741f85b4-1478-48f3-85f3-c13a3f23acd5",
   "metadata": {},
   "outputs": [],
   "source": [
    "filter(lambda x: x==x[::-1],L5"
   ]
  }
 ],
 "metadata": {
  "kernelspec": {
   "display_name": "Python 3 (ipykernel)",
   "language": "python",
   "name": "python3"
  },
  "language_info": {
   "codemirror_mode": {
    "name": "ipython",
    "version": 3
   },
   "file_extension": ".py",
   "mimetype": "text/x-python",
   "name": "python",
   "nbconvert_exporter": "python",
   "pygments_lexer": "ipython3",
   "version": "3.10.8"
  }
 },
 "nbformat": 4,
 "nbformat_minor": 5
}
